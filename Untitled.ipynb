{
 "cells": [
  {
   "cell_type": "code",
   "execution_count": 1,
   "id": "ac78363e-f276-47de-be7f-1edfdc815ea4",
   "metadata": {},
   "outputs": [],
   "source": [
    "#from langchain_google_genai import GoogleGenerativeAI\n",
    "from langchain_google_genai import GoogleGenerativeAI\n",
    "import os\n",
    "from dotenv import load_dotenv\n",
    "load_dotenv()\n",
    "llm=GoogleGenerativeAI(model=\"gemini-2.0-flash\",google_api_key=os.environ[\"GOOGLE_API_KEY\"])"
   ]
  },
  {
   "cell_type": "code",
   "execution_count": 2,
   "id": "4d84d873-3aef-42e8-b8db-8bdec0ac31a6",
   "metadata": {},
   "outputs": [
    {
     "name": "stderr",
     "output_type": "stream",
     "text": [
      "C:\\Users\\HP\\AppData\\Local\\Temp\\ipykernel_16740\\2901599730.py:1: LangChainDeprecationWarning: The method `BaseLLM.__call__` was deprecated in langchain-core 0.1.7 and will be removed in 1.0. Use :meth:`~invoke` instead.\n",
      "  print(llm(\"write few lines on generative AI\"))\n"
     ]
    },
    {
     "name": "stdout",
     "output_type": "stream",
     "text": [
      "Generative AI is a fascinating field focused on creating new content, from text and images to music and code. It uses machine learning models, often deep neural networks, to learn patterns from existing data and then generate novel outputs that resemble that data. Think of it as a digital artist, composer, or writer, trained on vast amounts of information and capable of producing original works. The potential applications are vast, spanning creative industries, scientific research, and beyond.\n"
     ]
    }
   ],
   "source": [
    "print(llm(\"write few lines on generative AI\"))"
   ]
  },
  {
   "cell_type": "markdown",
   "id": "8581b54f-b3c0-4602-8b1a-47938f490416",
   "metadata": {},
   "source": [
    "## connect with database and ask some basic questions"
   ]
  },
  {
   "cell_type": "code",
   "execution_count": 4,
   "id": "9c215070-7476-47d0-8248-158cbfa08763",
   "metadata": {},
   "outputs": [],
   "source": [
    "from langchain_experimental.sql import SQLDatabaseChain\n",
    "from langchain.utilities import SQLDatabase"
   ]
  },
  {
   "cell_type": "code",
   "execution_count": 5,
   "id": "90b36b05-1e12-4e2e-9b7e-441b2e58aa3a",
   "metadata": {},
   "outputs": [
    {
     "name": "stdout",
     "output_type": "stream",
     "text": [
      "\n",
      "CREATE TABLE sales_tb (\n",
      "\t`TransactionID` INTEGER, \n",
      "\t`Date` DATE, \n",
      "\t`CustomerID` VARCHAR(10), \n",
      "\t`Gender` VARCHAR(10), \n",
      "\t`Age` INTEGER, \n",
      "\t`ProductCategory` VARCHAR(50), \n",
      "\t`Quantity` INTEGER, \n",
      "\t`PriceperUnit` DECIMAL(10, 2), \n",
      "\t`TotalAmount` DECIMAL(10, 2)\n",
      ")COLLATE utf8mb4_0900_ai_ci ENGINE=InnoDB DEFAULT CHARSET=utf8mb4\n",
      "\n",
      "/*\n",
      "3 rows from sales_tb table:\n",
      "TransactionID\tDate\tCustomerID\tGender\tAge\tProductCategory\tQuantity\tPriceperUnit\tTotalAmount\n",
      "1\t2023-11-24\tCUST001\tMale\t34\tBeauty\t3\t50.00\t150.00\n",
      "2\t2023-02-27\tCUST002\tFemale\t26\tClothing\t2\t500.00\t1000.00\n",
      "3\t2023-01-13\tCUST003\tMale\t50\tElectronics\t1\t30.00\t30.00\n",
      "*/\n"
     ]
    }
   ],
   "source": [
    "db_user=\"root\"\n",
    "db_password=\"Harshavardhan1$\"\n",
    "db_host=\"localhost\"\n",
    "db_name=\"retail_sales_db\"\n",
    "db = SQLDatabase.from_uri(f\"mysql+pymysql://{db_user}:{db_password}@{db_host}/{db_name}\",sample_rows_in_table_info=3)\n",
    "\n",
    "print(db.table_info)"
   ]
  },
  {
   "cell_type": "code",
   "execution_count": 6,
   "id": "a50925c5-c504-4306-91d1-2cf68bddd4d4",
   "metadata": {},
   "outputs": [
    {
     "data": {
      "text/plain": [
       "'```sql\\nSELECT COUNT(DISTINCT `CustomerID`) FROM sales_tb\\n```'"
      ]
     },
     "execution_count": 6,
     "metadata": {},
     "output_type": "execute_result"
    }
   ],
   "source": [
    "#convert question to sql query\n",
    "from langchain.chains import create_sql_query_chain\n",
    "chain=create_sql_query_chain(llm,db)\n",
    "response=chain.invoke({\"question\":\"how many customers are there\"})\n",
    "response"
   ]
  },
  {
   "cell_type": "code",
   "execution_count": 7,
   "id": "c563932b-d164-4ea0-9867-e031513694ee",
   "metadata": {},
   "outputs": [
    {
     "name": "stdout",
     "output_type": "stream",
     "text": [
      "SELECT COUNT(DISTINCT `CustomerID`) FROM sales_tb\n"
     ]
    }
   ],
   "source": [
    "#the above result is not in clear way such that we should clean it \n",
    "clean_query=response.strip('```sql\\n').strip('\\n```')\n",
    "print(clean_query)"
   ]
  },
  {
   "cell_type": "code",
   "execution_count": 8,
   "id": "0e20c841-3d66-4ad5-aa95-8f52753ffa18",
   "metadata": {},
   "outputs": [
    {
     "name": "stdout",
     "output_type": "stream",
     "text": [
      "[(29,)]\n"
     ]
    }
   ],
   "source": [
    "#execute the sql query\n",
    "result=db.run(clean_query)\n",
    "print(result)"
   ]
  },
  {
   "cell_type": "code",
   "execution_count": 17,
   "id": "bc11fccc-9c82-4574-a807-a850023eceb4",
   "metadata": {},
   "outputs": [],
   "source": [
    "# Import the necessary exception\n",
    "from sqlalchemy.exc import ProgrammingError\n",
    "\n",
    "# Your existing chain and db must already be defined:\n",
    "# chain = create_sql_query_chain(llm, db)\n",
    "\n",
    "def execute_query(question):\n",
    "    try:\n",
    "        # Generate SQL query from question\n",
    "        response = chain.invoke({\"question\": question})\n",
    "        print(\"Generated Response:\")\n",
    "        print(response)\n",
    "        print(\"###################################################\")\n",
    "        \n",
    "        # Strip code formatting if present\n",
    "        if response.startswith(\"```sql\"):\n",
    "            cleaned_query = response.strip(\"```sql\").strip(\"```\").strip()\n",
    "        else:\n",
    "            cleaned_query = response.strip()\n",
    "        \n",
    "        print(\"Cleaned SQL Query:\")\n",
    "        print(cleaned_query)\n",
    "        print(\"###################################################\")\n",
    "        \n",
    "        # Execute the cleaned query\n",
    "        result = db.run(cleaned_query)\n",
    "        print(\"Query Result:\")\n",
    "        print(result)\n",
    "        \n",
    "    except ProgrammingError as e:\n",
    "        print(f\"An SQL error occurred: {e}\")\n",
    "    except Exception as e:\n",
    "        print(f\"An unexpected error occurred: {e}\")"
   ]
  },
  {
   "cell_type": "code",
   "execution_count": 18,
   "id": "17eecde0-bc09-456a-986d-254e2447eeee",
   "metadata": {},
   "outputs": [
    {
     "name": "stdout",
     "output_type": "stream",
     "text": [
      "Generated Response:\n",
      "```sql\n",
      "SELECT `ProductCategory`, COUNT(DISTINCT `CustomerID`) AS `UniqueCustomers`\n",
      "FROM sales_tb\n",
      "GROUP BY `ProductCategory`\n",
      "ORDER BY `ProductCategory`\n",
      "LIMIT 5;\n",
      "```\n",
      "###################################################\n",
      "Cleaned SQL Query:\n",
      "SELECT `ProductCategory`, COUNT(DISTINCT `CustomerID`) AS `UniqueCustomers`\n",
      "FROM sales_tb\n",
      "GROUP BY `ProductCategory`\n",
      "ORDER BY `ProductCategory`\n",
      "LIMIT 5;\n",
      "###################################################\n",
      "Query Result:\n",
      "[('Beauty', 8), ('Clothing', 13), ('Electronics', 8)]\n"
     ]
    }
   ],
   "source": [
    "q1 = \"How many unique customers are there for each product category\"\n",
    "execute_query(q1)"
   ]
  },
  {
   "cell_type": "code",
   "execution_count": 19,
   "id": "a80f486a-427a-47d2-8c9f-1a25cc087ea4",
   "metadata": {},
   "outputs": [
    {
     "name": "stdout",
     "output_type": "stream",
     "text": [
      "Generated Response:\n",
      "```sql\n",
      "SELECT `ProductCategory`, SUM(`TotalAmount`) AS `TotalSalesAmount` FROM sales_tb GROUP BY `ProductCategory`\n",
      "```\n",
      "###################################################\n",
      "Cleaned SQL Query:\n",
      "SELECT `ProductCategory`, SUM(`TotalAmount`) AS `TotalSalesAmount` FROM sales_tb GROUP BY `ProductCategory`\n",
      "###################################################\n",
      "Query Result:\n",
      "[('Beauty', Decimal('1455.00')), ('Clothing', Decimal('5040.00')), ('Electronics', Decimal('5310.00'))]\n"
     ]
    }
   ],
   "source": [
    "q2 = \"Calculate total sales amount per product category:\"\n",
    "execute_query(q2)"
   ]
  },
  {
   "cell_type": "code",
   "execution_count": null,
   "id": "f57ddf45-87ec-4c49-b9ef-e42e6b874e64",
   "metadata": {},
   "outputs": [],
   "source": []
  }
 ],
 "metadata": {
  "kernelspec": {
   "display_name": "Python 3 (ipykernel)",
   "language": "python",
   "name": "python3"
  },
  "language_info": {
   "codemirror_mode": {
    "name": "ipython",
    "version": 3
   },
   "file_extension": ".py",
   "mimetype": "text/x-python",
   "name": "python",
   "nbconvert_exporter": "python",
   "pygments_lexer": "ipython3",
   "version": "3.10.0"
  }
 },
 "nbformat": 4,
 "nbformat_minor": 5
}
